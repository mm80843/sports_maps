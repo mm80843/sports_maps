{
 "cells": [
  {
   "cell_type": "code",
   "execution_count": 2,
   "id": "1f7ea3aa",
   "metadata": {},
   "outputs": [
    {
     "name": "stdout",
     "output_type": "stream",
     "text": [
      "The autoreload extension is already loaded. To reload it, use:\n",
      "  %reload_ext autoreload\n"
     ]
    }
   ],
   "source": [
    "%load_ext autoreload\n",
    "%autoreload 2\n",
    "    \n",
    "import pandas as pd\n",
    "\n",
    "import sys \n",
    "sys.path.append(\"../src/\")\n",
    "\n",
    "import gpdSport #Geopandas sport !!\n"
   ]
  },
  {
   "cell_type": "code",
   "execution_count": 3,
   "id": "1708132a",
   "metadata": {},
   "outputs": [
    {
     "name": "stdout",
     "output_type": "stream",
     "text": [
      "Object created\n"
     ]
    }
   ],
   "source": [
    "data = gpdSport.dataSets()"
   ]
  },
  {
   "cell_type": "code",
   "execution_count": 4,
   "id": "c2b69f04",
   "metadata": {},
   "outputs": [],
   "source": [
    "DATA = data.CreateDF(\"C:/Users/JON80843/OneDrive - Mott MacDonald/Jupyter/20210620-sports_maps_onGH/data/\")"
   ]
  },
  {
   "cell_type": "code",
   "execution_count": 5,
   "id": "d12f48bc",
   "metadata": {},
   "outputs": [
    {
     "name": "stderr",
     "output_type": "stream",
     "text": [
      "C:\\Users\\JON80843\\Anaconda3\\envs\\Base\\lib\\site-packages\\pyproj\\crs\\crs.py:53: FutureWarning: '+init=<authority>:<code>' syntax is deprecated. '<authority>:<code>' is the preferred initialization method. When making the change, be mindful of axis order changes: https://pyproj4.github.io/pyproj/stable/gotchas.html#axis-order-changes-in-proj-6\n",
      "  return _prepare_from_string(\" \".join(pjargs))\n"
     ]
    }
   ],
   "source": [
    "data.CreateVille(8409); #"
   ]
  },
  {
   "cell_type": "code",
   "execution_count": null,
   "id": "fcc4c987",
   "metadata": {},
   "outputs": [
    {
     "name": "stderr",
     "output_type": "stream",
     "text": [
      "../src\\gpdSport.py:151: SettingWithCopyWarning: \n",
      "A value is trying to be set on a copy of a slice from a DataFrame.\n",
      "Try using .loc[row_indexer,col_indexer] = value instead\n",
      "\n",
      "See the caveats in the documentation: https://pandas.pydata.org/pandas-docs/stable/user_guide/indexing.html#returning-a-view-versus-a-copy\n",
      "  self.RES_VilleCible_MultiSport[\"index\"] = self.RES_VilleCible_MultiSport.EquipementId\n"
     ]
    },
    {
     "name": "stdout",
     "output_type": "stream",
     "text": [
      "ax.axis =  (542168.4841672145, 562828.2461318627, 6387644.430788758, 6412954.650250112)\n"
     ]
    },
    {
     "name": "stderr",
     "output_type": "stream",
     "text": [
      "../src\\gpdSport.py:35: FutureWarning: The \"url\" option is deprecated. Please use the \"source\" argument instead.\n",
      "  basemap, extent = ctx.bounds2img(xmin, ymin, xmax, ymax, zoom=zoom, url=url)\n",
      "C:\\Users\\JON80843\\Anaconda3\\envs\\Base\\lib\\site-packages\\contextily\\tile.py:265: FutureWarning: The url format using 'tileX', 'tileY', 'tileZ' as placeholders is deprecated. Please use '{x}', '{y}', '{z}' instead.\n",
      "  warnings.warn(\n"
     ]
    }
   ],
   "source": [
    "fig = data.CreateMap(ZOOM=12)"
   ]
  },
  {
   "cell_type": "code",
   "execution_count": null,
   "id": "10e2221f",
   "metadata": {},
   "outputs": [],
   "source": [
    "data.createReport();"
   ]
  },
  {
   "cell_type": "code",
   "execution_count": null,
   "id": "cdc807fc",
   "metadata": {},
   "outputs": [],
   "source": [
    "data.createReportMarkdown();"
   ]
  },
  {
   "cell_type": "code",
   "execution_count": null,
   "id": "d385694a",
   "metadata": {},
   "outputs": [],
   "source": [
    "data.MD"
   ]
  },
  {
   "cell_type": "code",
   "execution_count": null,
   "id": "e63fd4ca",
   "metadata": {},
   "outputs": [],
   "source": [
    "data.StatsClubs"
   ]
  },
  {
   "cell_type": "code",
   "execution_count": null,
   "id": "266ac78c",
   "metadata": {},
   "outputs": [],
   "source": []
  }
 ],
 "metadata": {
  "kernelspec": {
   "display_name": "Python 3",
   "language": "python",
   "name": "python3"
  },
  "language_info": {
   "codemirror_mode": {
    "name": "ipython",
    "version": 3
   },
   "file_extension": ".py",
   "mimetype": "text/x-python",
   "name": "python",
   "nbconvert_exporter": "python",
   "pygments_lexer": "ipython3",
   "version": "3.8.8"
  }
 },
 "nbformat": 4,
 "nbformat_minor": 5
}
